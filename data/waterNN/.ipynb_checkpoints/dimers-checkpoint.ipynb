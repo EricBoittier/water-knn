{
 "cells": [
  {
   "cell_type": "code",
   "execution_count": 4,
   "id": "0820bbe7-b455-4324-9411-4598683dcd34",
   "metadata": {},
   "outputs": [],
   "source": [
    "import ase\n",
    "from ase.io import read\n",
    "import dscribe\n",
    "from dscribe.descriptors import SOAP\n",
    "import matplotlib.pyplot as plt\n",
    "import numpy as np\n",
    "\n",
    "from sklearn.metrics.pairwise import cosine_similarity\n",
    "from sklearn.metrics import mean_squared_error\n",
    "\n",
    "from spyrmsd import rmsd\n",
    "\n",
    "import pandas as pd\n"
   ]
  },
  {
   "cell_type": "code",
   "execution_count": 5,
   "id": "8e474cd9-77bc-4eb0-b9ed-586d754a181e",
   "metadata": {},
   "outputs": [],
   "source": [
    "water6 = \"/home/boittier/Documents/phd/ff_energy/ff_energy/sampling/6_TIP3.xyz\"\n",
    "\n",
    "trajwater6 = read(water6,index=':') "
   ]
  },
  {
   "cell_type": "code",
   "execution_count": 6,
   "id": "adbfb8bf-092b-41d3-b255-7bfb81ed25f9",
   "metadata": {},
   "outputs": [],
   "source": [
    "def soap(rcut=6.0, nmax=8, lmax=6, species=(\"H\", \"O\"), average=\"inner\", weighting=None):\n",
    "    # Setting up the SOAP descriptor\n",
    "    soap = SOAP(\n",
    "        species=species,\n",
    "        periodic=False,\n",
    "        r_cut=rcut,\n",
    "        n_max=nmax,\n",
    "        l_max=lmax,\n",
    "        average=average,\n",
    "        weighting=weighting,\n",
    "    )\n",
    "    return soap"
   ]
  },
  {
   "cell_type": "code",
   "execution_count": 7,
   "id": "6a6e661c-2f8f-46db-8794-208445048279",
   "metadata": {},
   "outputs": [],
   "source": [
    "soap = soap()"
   ]
  },
  {
   "cell_type": "code",
   "execution_count": 9,
   "id": "b2d550da-24b3-4d89-be4c-83d7b60126a3",
   "metadata": {},
   "outputs": [
    {
     "data": {
      "text/plain": [
       "(107325, 952)"
      ]
     },
     "execution_count": 9,
     "metadata": {},
     "output_type": "execute_result"
    }
   ],
   "source": [
    "water6soap = soap.create(trajwater6)\n",
    "water6soap.shape"
   ]
  },
  {
   "cell_type": "code",
   "execution_count": 10,
   "id": "4eb5e76e-c5f1-4d79-ae8f-eee7f8c69e48",
   "metadata": {},
   "outputs": [
    {
     "data": {
      "text/plain": [
       "(952,)"
      ]
     },
     "execution_count": 10,
     "metadata": {},
     "output_type": "execute_result"
    }
   ],
   "source": [
    "water6soap[0].shape"
   ]
  },
  {
   "cell_type": "code",
   "execution_count": 13,
   "id": "9f256025-e942-4be4-b95e-8ee325ffda7b",
   "metadata": {},
   "outputs": [
    {
     "data": {
      "text/plain": [
       "array([[1.        , 0.99896815, 0.99625352, ..., 0.99946723, 0.99907386,\n",
       "        0.99974358]])"
      ]
     },
     "execution_count": 13,
     "metadata": {},
     "output_type": "execute_result"
    }
   ],
   "source": [
    "cosine_similarity([water6soap[0]], water6soap)"
   ]
  },
  {
   "cell_type": "code",
   "execution_count": 14,
   "id": "ac7d6823-ec1d-42e4-80ff-ee1473eb29db",
   "metadata": {},
   "outputs": [],
   "source": [
    "# def rmsd(\n",
    "#     coords1: np.ndarray,    # Coordinates of molecule 1\n",
    "#     coords2: np.ndarray,    # Coordinates of molecule 2\n",
    "#     aprops1: np.ndarray,    # Atomic properties of molecule 1\n",
    "#     aprops2: np.ndarray,    # Atomic properties of molecule 2\n",
    "#     center: bool = False,   # Flag to center molecules at origin\n",
    "#     minimize: bool = False, # Flag to compute minimum RMSD\n",
    "#     atol: float = 1e-9,     # Numerical tolerance for QCP method\n",
    "# )"
   ]
  },
  {
   "cell_type": "code",
   "execution_count": 15,
   "id": "6918955e-8579-48b1-9bad-8716c2423968",
   "metadata": {},
   "outputs": [],
   "source": [
    "positions = [ _.get_positions() for _ in trajwater6]"
   ]
  },
  {
   "cell_type": "code",
   "execution_count": 16,
   "id": "6eca7cc6-d57e-47e2-826a-77b29e5d0e7a",
   "metadata": {},
   "outputs": [],
   "source": [
    "atomic_numbers = trajwater6[0].get_atomic_numbers()"
   ]
  },
  {
   "cell_type": "code",
   "execution_count": 18,
   "id": "9df2db6a-b33e-4c86-a379-b153cfe5912c",
   "metadata": {},
   "outputs": [],
   "source": [
    "# rmsd.rmsd(, trajwater6[1].get_positions(), atomic_numbers, atomic_numbers)"
   ]
  },
  {
   "cell_type": "code",
   "execution_count": 19,
   "id": "36bdcae4-cae3-4ee9-9085-d93076833579",
   "metadata": {},
   "outputs": [],
   "source": [
    "AM = np.array([[1, 1, 1, 0, 0, 0],\n",
    "     [1, 1, 1, 0, 0, 0],\n",
    "     [1, 1, 1, 0, 0, 0],\n",
    "     [ 0, 0, 0, 1, 1, 1],\n",
    "     [ 0, 0, 0, 1, 1, 1],\n",
    "     [ 0, 0, 0, 1, 1, 1]])\n",
    "\n",
    "# AM = np.ones((9,9))"
   ]
  },
  {
   "cell_type": "code",
   "execution_count": 22,
   "id": "6fe9d656-6651-4f59-b969-fed556c51d3d",
   "metadata": {
    "tags": []
   },
   "outputs": [
    {
     "name": "stderr",
     "output_type": "stream",
     "text": [
      "/home/boittier/miniconda3/envs/pycharmm/lib/python3.8/site-packages/spyrmsd/graphs/nx.py:42: UserWarning: Disconnected graph detected. Is this expected?\n",
      "  warnings.warn(warn_disconnected_graph)\n"
     ]
    },
    {
     "data": {
      "text/plain": [
       "0.5176743811629866"
      ]
     },
     "execution_count": 22,
     "metadata": {},
     "output_type": "execute_result"
    }
   ],
   "source": [
    "rmsd.symmrmsd(positions[0], positions[1], atomic_numbers, atomic_numbers, AM, AM, center=True, minimize=True)"
   ]
  },
  {
   "cell_type": "code",
   "execution_count": null,
   "id": "699bccf7-2cad-4a86-b971-e4283d9bdd12",
   "metadata": {
    "tags": []
   },
   "outputs": [],
   "source": [
    "sym_rmsd = []\n",
    "cosign_sim = []\n",
    "\n",
    "for i in range(len(positions)):\n",
    "    # sym_rmsd.append(rmsd.symmrmsd(positions[i], positions, atomic_numbers, atomic_numbers, AM, AM, center=True, minimize=True))\n",
    "    cosign_sim.append(cosine_similarity([water6soap[i]], water6soap))"
   ]
  },
  {
   "cell_type": "code",
   "execution_count": null,
   "id": "02387046-562f-4f51-bfff-df38b4d3e839",
   "metadata": {},
   "outputs": [],
   "source": [
    "cosign_sim"
   ]
  },
  {
   "cell_type": "code",
   "execution_count": null,
   "id": "dffa2ad6-1690-4ae7-a954-6ce639780fcd",
   "metadata": {},
   "outputs": [],
   "source": []
  }
 ],
 "metadata": {
  "kernelspec": {
   "display_name": "pycharmm",
   "language": "python",
   "name": "pycharmm"
  },
  "language_info": {
   "codemirror_mode": {
    "name": "ipython",
    "version": 3
   },
   "file_extension": ".py",
   "mimetype": "text/x-python",
   "name": "python",
   "nbconvert_exporter": "python",
   "pygments_lexer": "ipython3",
   "version": "3.8.16"
  }
 },
 "nbformat": 4,
 "nbformat_minor": 5
}
