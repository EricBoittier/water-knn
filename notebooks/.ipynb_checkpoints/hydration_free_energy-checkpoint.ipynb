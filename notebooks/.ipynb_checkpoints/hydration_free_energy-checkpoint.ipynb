{
 "cells": [
  {
   "cell_type": "code",
   "execution_count": 1,
   "id": "96e976f5-3937-4352-8641-0f8a3e5631fd",
   "metadata": {},
   "outputs": [],
   "source": [
    "# Statistics\n",
    "# Miscellaneous\n",
    "import ase.units as units\n",
    "import matplotlib.pyplot as plt\n",
    "import numpy as np\n",
    "from statsmodels.tsa.stattools import acovf\n",
    "import pint\n",
    "from scipy.signal import find_peaks\n",
    "from pathlib import Path\n",
    "\n",
    "ureg = pint.UnitRegistry()"
   ]
  },
  {
   "cell_type": "code",
   "execution_count": null,
   "id": "d565d49c-944f-44d9-93df-c22906639f89",
   "metadata": {},
   "outputs": [],
   "source": [
    "text = \"\"\"\n",
    "sbatch --wrap=\"module load gcc/gcc-12.2.0-cmake-3.25.1-openmpi-4.1.4; CHARMM=~/chm-nn-water-2000/build/cmake/charmm; $CHARMM lambda={LAMBDA} -i ele_scale.inp -o ele-{LAMBDA}.log\"\n",
    "sbatch --wrap=\"module load gcc/gcc-12.2.0-cmake-3.25.1-openmpi-4.1.4; CHARMM=~/chm-nn-water-2000/build/cmake/charmm; $CHARMM lambda={LAMBDA} -i vdw_scale.inp -o vdw-{LAMBDA}.log\"\n",
    "\"\"\""
   ]
  }
 ],
 "metadata": {
  "kernelspec": {
   "display_name": "PyCharm (projectB)",
   "language": "python",
   "name": "pycharm-9863ae65"
  },
  "language_info": {
   "codemirror_mode": {
    "name": "ipython",
    "version": 3
   },
   "file_extension": ".py",
   "mimetype": "text/x-python",
   "name": "python",
   "nbconvert_exporter": "python",
   "pygments_lexer": "ipython3",
   "version": "3.9.13"
  }
 },
 "nbformat": 4,
 "nbformat_minor": 5
}
